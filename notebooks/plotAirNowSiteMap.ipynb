{
 "cells": [
  {
   "cell_type": "markdown",
   "id": "777c5b27-fec7-4033-9181-8b7398e6d089",
   "metadata": {},
   "source": [
    "## Generate AirNow site map based on available measurements\n",
    "This notebook will loop through the available H(x) IODA files in the period and create the site map based on avaialble measurements of ozone and PM2.5."
   ]
  },
  {
   "cell_type": "code",
   "execution_count": null,
   "id": "7f84a489-6afd-4846-a0be-6f4c22709742",
   "metadata": {},
   "outputs": [],
   "source": [
    "import os\n",
    "import xarray as xr\n",
    "import pandas as pd\n",
    "from tqdm import tqdm\n",
    "from datetime import timedelta\n",
    "import matplotlib as mpl\n",
    "import matplotlib.pyplot as plt\n",
    "import cartopy.crs as ccrs\n",
    "import cartopy.feature as cft\n",
    "from functions import set_size, get_dates"
   ]
  },
  {
   "cell_type": "markdown",
   "id": "220d41e8-4121-4919-9766-5a27c6b522ae",
   "metadata": {},
   "source": [
    "### Setup the searching period, paths, and figure features. "
   ]
  },
  {
   "cell_type": "code",
   "execution_count": null,
   "id": "7ceafbe0-5ec1-4abc-b203-5e6ea7474713",
   "metadata": {},
   "outputs": [],
   "source": [
    "tlsize = 12\n",
    "txsize = 12\n",
    "mpl.rc('axes', titlesize=tlsize, labelsize=txsize)\n",
    "mpl.rc('xtick', labelsize=txsize)\n",
    "mpl.rc('ytick', labelsize=txsize)\n",
    "mpl.rc('legend', fontsize='small')\n",
    "axe_w = 4\n",
    "axe_h = 4\n",
    "plot_quality = 600\n",
    "\n",
    "srcpath = '/glade/work/swei/Git/JEDI-METplus'\n",
    "projection_like = 'wxaq'\n",
    "minlon = -81.\n",
    "maxlon = -70\n",
    "minlat = 39.8\n",
    "maxlat = 46.\n",
    "\n",
    "plot_product = 'wrfchem_evaluate'\n",
    "obs_name = 'airnow-wxaq'\n",
    "\n",
    "vfhr_range = range(1, 25)\n",
    "sdate = 2024082200\n",
    "edate = 2024083100\n",
    "hint = 24\n",
    "dates = get_dates(init_sdate, init_edate, hint)\n",
    "\n",
    "hofx_path_tmpl = os.path.join(srcpath, 'output', plot_product, 'hofx', 'f{fhr:02d}', obs_name)\n",
    "plts_path = os.path.join(srcpath, 'output', plot_product, 'plots', '2dmap', obs_name)\n",
    "\n",
    "if not os.path.exists(plts_path):\n",
    "    os.makedirs(plts_path)\n",
    "\n",
    "# Setup projection\n",
    "if projection_like == 'wxaq':\n",
    "    proj = ccrs.LambertConformal(central_longitude=-97.0,\n",
    "                                 central_latitude=39.0,\n",
    "                                 standard_parallels=[30., 60.])\n",
    "if projection_like == 'glb':\n",
    "    proj = ccrs.PlateCarree()"
   ]
  },
  {
   "cell_type": "markdown",
   "id": "647fa520-eef0-4471-afd3-2e6468320cd7",
   "metadata": {},
   "source": [
    "### Load H(x) IODA files and convert it to Pandas DataFrame."
   ]
  },
  {
   "cell_type": "code",
   "execution_count": null,
   "id": "6ec6a9fe-722f-4e4a-a87f-a4fcc7a890af",
   "metadata": {},
   "outputs": [],
   "source": [
    "df = pd.DataFrame()\n",
    "for idate in tqdm(dates):\n",
    "    for fhr in vfhr_range:\n",
    "        hofx_path = hofx_path_tmpl.format(fhr=fhr)\n",
    "        if not os.path.exists(hofx_path):\n",
    "            raise Exception(f'HofX folder: {hofx_path} is not available')\n",
    "        cdate = idate + timedelta(hours=fhr)\n",
    "        plot_date = cdate.strftime('%Y%m%d%H')\n",
    "        hofx_file = f'hofx.{obs_name}.{plot_date}.nc4'\n",
    "        in_hofx = os.path.join(hofx_path, hofx_file)\n",
    "        if not os.path.exists(in_hofx):\n",
    "            print(f'WARNING: Skip {plot_date}, {hofx_file} is not available')\n",
    "            continue\n",
    "\n",
    "        meta_ds = xr.open_dataset(in_hofx, group='MetaData')\n",
    "        obsv_ds = xr.open_dataset(in_hofx, group='ObsValue')\n",
    "        tmpdf = meta_ds.to_dataframe()\n",
    "        tmpobsdf = obsv_ds.to_dataframe()\n",
    "        tmpdf = pd.concat((tmpdf, tmpobsdf), axis=1)\n",
    "\n",
    "        df = pd.concat((df, tmpdf))"
   ]
  },
  {
   "cell_type": "markdown",
   "id": "76b638a5-b811-4a38-b972-789ab6dd4b73",
   "metadata": {},
   "source": [
    "### Find the sites measure ozone and PM2.5"
   ]
  },
  {
   "cell_type": "code",
   "execution_count": null,
   "id": "d35f8dfa-4a08-44aa-b937-64f8c61bf2ea",
   "metadata": {},
   "outputs": [],
   "source": [
    "ozone_df = df[['latitude', 'longitude', 'stationIdentification', 'ozoneInsitu']]\n",
    "pm2p5_df = df[['latitude', 'longitude', 'stationIdentification', 'particulatematter2p5Insitu']]\n",
    "\n",
    "ploto3_df = ozone_df.groupby(['stationIdentification']).agg(func='mean').dropna(subset=['ozoneInsitu'])\n",
    "plotpm_df = pm2p5_df.groupby(['stationIdentification']).agg(func='mean').dropna(subset=['particulatematter2p5Insitu'])\n",
    "\n",
    "o3_locations = ploto3_df[['longitude', 'latitude']].drop_duplicates()\n",
    "pm_locations = plotpm_df[['longitude', 'latitude']].drop_duplicates()"
   ]
  },
  {
   "cell_type": "markdown",
   "id": "dbee8ea6-333d-49c5-b5fe-6a6ee37f081c",
   "metadata": {},
   "source": [
    "### Create the site map with black circles for ozone and blue dots for PM2.5"
   ]
  },
  {
   "cell_type": "code",
   "execution_count": null,
   "id": "6837a43c-a65d-4b4c-a6ab-6f75f35f7e54",
   "metadata": {},
   "outputs": [],
   "source": [
    "fig = plt.figure()\n",
    "ax = plt.subplot(projection=proj)\n",
    "set_size(axe_w, axe_h, t=0.96, l=0.14, b=0.1, r=0.86)\n",
    "ax.set_extent((minlon, maxlon, minlat, maxlat), crs=ccrs.PlateCarree())\n",
    "gl = ax.gridlines(draw_labels=True, dms=True, x_inline=False, y_inline=False)\n",
    "gl.xlines = False\n",
    "gl.ylines = False\n",
    "gl.xlabel_style = {'size': txsize - 1}\n",
    "gl.ylabel_style = {'size': txsize - 1}\n",
    "gl.right_labels = False\n",
    "gl.top_labels = False\n",
    "ax.add_feature(cft.BORDERS.with_scale('10m'), color='grey', linestyle='--', linewidth=0.5)\n",
    "ax.add_feature(cft.STATES.with_scale('10m'), edgecolor='grey', linewidth=0.5)\n",
    "ax.add_feature(cft.LAKES.with_scale('10m'), facecolor='none', edgecolor='grey', linewidth=0.5)\n",
    "\n",
    "ax.scatter(o3_locations['longitude'], o3_locations['latitude'], c='none', s=50,\n",
    "           edgecolor='k', linewidth=1, transform=ccrs.PlateCarree(), zorder=2, label='$\\mathrm{O}_3$')\n",
    "ax.scatter(pm_locations['longitude'], pm_locations['latitude'], c='b', s=15,\n",
    "           edgecolor='none', transform=ccrs.PlateCarree(), zorder=3, label='$\\mathrm{PM}_{2.5}$')\n",
    "\n",
    "ax.legend(loc='lower right')\n",
    "\n",
    "outname = f'{plts_path}/site_maps.{init_sdate}_{init_edate}.png'\n",
    "fig.savefig(outname, dpi=plot_quality)\n",
    "plt.close()"
   ]
  }
 ],
 "metadata": {
  "kernelspec": {
   "display_name": "NPL 2025b",
   "language": "python",
   "name": "npl-2025b"
  },
  "language_info": {
   "codemirror_mode": {
    "name": "ipython",
    "version": 3
   },
   "file_extension": ".py",
   "mimetype": "text/x-python",
   "name": "python",
   "nbconvert_exporter": "python",
   "pygments_lexer": "ipython3",
   "version": "3.12.11"
  }
 },
 "nbformat": 4,
 "nbformat_minor": 5
}
