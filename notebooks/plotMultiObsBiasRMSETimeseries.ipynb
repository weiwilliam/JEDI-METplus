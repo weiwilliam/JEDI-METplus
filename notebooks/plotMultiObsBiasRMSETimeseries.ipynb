{
 "cells": [
  {
   "cell_type": "markdown",
   "id": "04ea0bb9-4265-429d-afca-51275fcced77",
   "metadata": {},
   "source": [
    "## Generate time series plot from H(x) IODA files\n",
    "This notebook will calulate bias and root-mean-square-error from ObsValue and hofx group available in H(x) IODA files."
   ]
  },
  {
   "cell_type": "code",
   "execution_count": null,
   "id": "df43b193-25df-42cb-b3b7-2e3699577580",
   "metadata": {},
   "outputs": [],
   "source": [
    "import os\n",
    "import matplotlib as mpl\n",
    "import matplotlib.dates as mdates\n",
    "import matplotlib.pyplot as plt\n",
    "import numpy as np\n",
    "import pandas as pd\n",
    "import xarray as xa\n",
    "from functions import get_dates, set_size\n",
    "from joblib import Parallel, delayed\n",
    "from tqdm import tqdm"
   ]
  },
  {
   "cell_type": "markdown",
   "id": "a80dd610-2639-4663-9835-f1d074a16079",
   "metadata": {},
   "source": [
    "### Setup the running period, observation folder names, features of figure, etc."
   ]
  },
  {
   "cell_type": "code",
   "execution_count": null,
   "id": "c2990b53-1f5e-4f18-9960-28fd0eb7af50",
   "metadata": {},
   "outputs": [],
   "source": [
    "tlsize = 12\n",
    "txsize = 12\n",
    "mpl.rc(\"axes\", titlesize=tlsize, labelsize=txsize)\n",
    "mpl.rc(\"xtick\", labelsize=txsize)\n",
    "mpl.rc(\"ytick\", labelsize=txsize)\n",
    "mpl.rc(\"legend\", fontsize=\"large\")\n",
    "minussign = \"\\u2212\"\n",
    "\n",
    "axe_w = 8\n",
    "axe_h = 3\n",
    "plot_quality = 600\n",
    "# Colorbar control\n",
    "cb_ori = \"vertical\"\n",
    "cb_frac = 0.025\n",
    "cb_pad = 0.04\n",
    "cb_asp = 32\n",
    "plotqc = -1\n",
    "\n",
    "srcpath = \"/glade/work/swei/Git/JEDI-METplus\"\n",
    "\n",
    "plot_product = \"wrfchem_evaluate\"\n",
    "obs_name_list = [\n",
    "    \"tropomi_s5p_no2_troposphere-wxaq\",\n",
    "    \"tempo_no2_tropo-wxaq\",\n",
    "]\n",
    "\n",
    "# JEDI variable name, var:channel\n",
    "plot_var = \"nitrogendioxideColumn\"\n",
    "# units_str = 'mol m$^{-2}$'\n",
    "units_str = \"10$^{15}$ molec cm$^{-2}$\"\n",
    "\n",
    "vrfy_init = \"00\"\n",
    "vrfy_day = 1\n",
    "sdate = 2024082201\n",
    "edate = 2024090100\n",
    "hint = 1\n",
    "dates = get_dates(sdate, edate, hint)"
   ]
  },
  {
   "cell_type": "markdown",
   "id": "6d19d055-a6cd-4edf-be6a-51be168cc9d2",
   "metadata": {},
   "source": [
    "### Setup default variable name, units, paths, and functions"
   ]
  },
  {
   "cell_type": "code",
   "execution_count": null,
   "id": "3856b2be-d476-4ff1-8ea6-d1cdca53eb71",
   "metadata": {},
   "outputs": [],
   "source": [
    "obsname_dict = {\n",
    "    \"tropomi_s5p_no2_troposphere-wxaq\": \"TROPOMI\",\n",
    "    \"tempo_no2_tropo-wxaq\": \"TEMPO\",\n",
    "}\n",
    "varstr_dict = {\n",
    "    \"nitrogendioxideColumn\": \"Tropospheric NO$_{2}$\",\n",
    "    \"nitrogendioxideTotal\": \"Total NO$_{2}$\",\n",
    "    \"carbonmonoxideTotal\": \"Total CO\",\n",
    "}\n",
    "units_factors_dict = {\n",
    "    \"mol m$^{-2}$\": 1.0,\n",
    "    \"10$^{15}$ molec cm$^{-2}$\": 6.022e4,\n",
    "}\n",
    "ylbstr = \"%s (%s)\" % (varstr_dict[plot_var], units_str)\n",
    "\n",
    "hofx_path = os.path.join(srcpath, \"output\", plot_product, \"hofx\")\n",
    "plts_path = os.path.join(srcpath, \"output\", plot_product, \"plots\", \"timeseries\")\n",
    "\n",
    "if not os.path.exists(hofx_path):\n",
    "    raise Exception(f\"HofX folder: {hofx_path} is not available\")\n",
    "\n",
    "if not os.path.exists(plts_path):\n",
    "    os.makedirs(plts_path)\n",
    "\n",
    "\n",
    "def get_fhr(cdate, from_init, day_n_fcst):\n",
    "    \"\"\"\n",
    "    Find the forecast hour based on\n",
    "    cdate: current cycle, datetime object\n",
    "    from_init: 2-digit string of 'HH',\n",
    "        indicates create forecast hour based on which cycle to be initialized from.\n",
    "    day_n_fcst: integer, the day 'i' forecast to be searched and verified, 1: 1-24 hour forecasts.\n",
    "    \"\"\"\n",
    "    if int(from_init) >= int(cdate.strftime(\"%H\")):\n",
    "        fhr = (day_n_fcst) * 24 - abs(int(from_init) - int(cdate.strftime(\"%H\")))\n",
    "    else:\n",
    "        fhr = (day_n_fcst - 1) * 24 - (int(from_init) - int(cdate.strftime(\"%H\")))\n",
    "    return f\"{fhr:02d}\"\n",
    "\n",
    "\n",
    "def process_dates_bias_rmse(cdate, obsname, varname, vrfy_init, vrfy_day):\n",
    "    tmpdf = pd.DataFrame()\n",
    "    tmpdf[\"obsname\"] = [obsname]\n",
    "    tmpdf[\"datetime\"] = [cdate]\n",
    "\n",
    "    cdate_str = cdate.strftime(\"%Y%m%d%H\")\n",
    "    fhr_str = get_fhr(cdate, vrfy_init, vrfy_day)\n",
    "    hofxfile = f\"{hofx_path}/f{fhr_str}/{obsname}/hofx.{obsname}.{cdate_str}.nc4\"\n",
    "    if not os.path.exists(hofxfile):\n",
    "        tmpdf[\"bias\"] = [np.nan]\n",
    "        tmpdf[\"rmse\"] = [np.nan]\n",
    "    else:\n",
    "        obsvds = xa.open_dataset(hofxfile, group=\"ObsValue\")\n",
    "        hofxds = xa.open_dataset(hofxfile, group=\"hofx\")\n",
    "        obsv = obsvds[varname].values * units_factors_dict[units_str]\n",
    "        hofx = hofxds[varname].values * units_factors_dict[units_str]\n",
    "\n",
    "        bias = np.nanmean(hofx - obsv)\n",
    "        rmse = np.sqrt(np.nanmean(np.square(hofx - obsv)))\n",
    "        tmpdf[\"bias\"] = [bias]\n",
    "        tmpdf[\"rmse\"] = [rmse]\n",
    "    return tmpdf"
   ]
  },
  {
   "cell_type": "markdown",
   "id": "d0cd93d0-6a61-476e-84da-b1e75b5b0323",
   "metadata": {},
   "source": [
    "### Create Pandas DataFrame, and convert UTC to local time (EST in this case)"
   ]
  },
  {
   "cell_type": "code",
   "execution_count": null,
   "id": "3efbeb42-c95b-45dd-94ba-0e83c4c2e919",
   "metadata": {},
   "outputs": [],
   "source": [
    "all_df = pd.DataFrame()\n",
    "for obs in obs_name_list:\n",
    "    print(f'Processing {obs}')\n",
    "    results = Parallel(n_jobs=-1)(\n",
    "        delayed(process_dates_bias_rmse)(\n",
    "            cdate, obs, plot_var, vrfy_init, vrfy_day) for cdate in tqdm(dates))\n",
    "    obs_df = pd.concat(results, ignore_index=True)\n",
    "    all_df = pd.concat((all_df, obs_df), ignore_index=True)\n",
    "all_df['localtime'] = all_df['datetime'].dt.tz_localize('UTC').dt.tz_convert('America/New_York')\n",
    "print('Process Finished')"
   ]
  },
  {
   "cell_type": "markdown",
   "id": "bb34effd-0577-488b-802b-35597351e045",
   "metadata": {},
   "source": [
    "### Create Bias and RMSE time series plot"
   ]
  },
  {
   "cell_type": "code",
   "execution_count": null,
   "id": "406ddb8f-b5fb-4170-8baf-d31bc28f52b0",
   "metadata": {},
   "outputs": [],
   "source": [
    "for stattype in [\"bias\", \"rmse\"]:\n",
    "    fig, ax = plt.subplots()\n",
    "    set_size(axe_w, axe_h, b=0.25, l=0.1, r=0.95, t=0.9)\n",
    "    # ax.ticklabel_format(axis=\"y\", style=\"sci\", scilimits=(0, 0))\n",
    "    shortobsname_list = []\n",
    "    for obs in all_df[\"obsname\"].unique():\n",
    "        subset = all_df[all_df[\"obsname\"] == obs]\n",
    "        mean = subset[stattype].mean()\n",
    "        if mean < 0:\n",
    "            mean_str = f\"{minussign}{abs(mean):.4f}\"\n",
    "        else:\n",
    "            mean_str = f\"{mean:.4f}\"\n",
    "        shortobsname_list.append(obsname_dict[obs])\n",
    "        label = f\"{obsname_dict[obs]} ({mean_str})\"\n",
    "        ax.plot(\n",
    "            subset[\"localtime\"],\n",
    "            subset[stattype],\n",
    "            marker=\"o\",\n",
    "            linestyle=\" \",\n",
    "            label=label,\n",
    "            mec=\"w\",\n",
    "        )\n",
    "\n",
    "    filename_obstag = \"_\".join(shortobsname_list)\n",
    "    date_format = mdates.DateFormatter(\"%Y\\n%m-%d\")  # Customize this\n",
    "    plt.gca().xaxis.set_major_formatter(date_format)\n",
    "    plt.xticks(rotation=45)\n",
    "    plt.title(stattype.upper(), loc=\"left\", fontsize=txsize + 2)\n",
    "    plt.xlabel(\"Date (LST)\")\n",
    "    plt.ylabel(ylbstr)\n",
    "    plt.grid(True)\n",
    "    plt.legend(fontsize=txsize)\n",
    "    outname = f\"{plts_path}/{stattype}.{filename_obstag}.{sdate}_{edate}.png\"\n",
    "    fig.savefig(outname, dpi=plot_quality)"
   ]
  }
 ],
 "metadata": {
  "kernelspec": {
   "display_name": "NPL 2025b",
   "language": "python",
   "name": "npl-2025b"
  },
  "language_info": {
   "codemirror_mode": {
    "name": "ipython",
    "version": 3
   },
   "file_extension": ".py",
   "mimetype": "text/x-python",
   "name": "python",
   "nbconvert_exporter": "python",
   "pygments_lexer": "ipython3",
   "version": "3.12.11"
  }
 },
 "nbformat": 4,
 "nbformat_minor": 5
}
