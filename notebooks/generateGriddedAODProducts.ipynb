{
 "cells": [
  {
   "cell_type": "markdown",
   "id": "47061943-c372-4586-81e2-ce711942cb08",
   "metadata": {},
   "source": [
    "## Aggregate H(x) IODA files on regular latitude/longitude\n",
    "This notebook generate the gridded mean and standard deviation for obs, H(x), and obs - H(x) in NetCDF4 format. \\\n",
    "The number of pixels in a grid point is produced as well. \\\n",
    "Output variables are in the format: `{obsname}_{obs|hofx|omb}_{count|mean|std}`"
   ]
  },
  {
   "cell_type": "code",
   "execution_count": null,
   "id": "31730ad4-468a-4936-b6a1-b1929af07a13",
   "metadata": {},
   "outputs": [],
   "source": [
    "from tqdm import tqdm\n",
    "import xarray as xa\n",
    "import numpy as np\n",
    "import pandas as pd\n",
    "from functions import get_dates\n",
    "from joblib import Parallel, delayed"
   ]
  },
  {
   "attachments": {},
   "cell_type": "markdown",
   "id": "37d22030-42d7-46be-a74c-c933f17eda20",
   "metadata": {},
   "source": [
    "### Setup the script running period, grid resolution, and input/output paths"
   ]
  },
  {
   "cell_type": "code",
   "execution_count": null,
   "id": "1785b51d-63df-4521-936b-c035fbfe7ffe",
   "metadata": {},
   "outputs": [],
   "source": [
    "sdate = 2024110100\n",
    "edate = 2024113018\n",
    "date_interval = 6\n",
    "dates = get_dates(sdate, edate, date_interval)\n",
    "chnlidx = 4\n",
    "varname = 'aerosolOpticalDepth'\n",
    "lon_res = 0.625\n",
    "lat_res = 0.5\n",
    "\n",
    "ioda_path = '/glade/work/swei/Git/JEDI-METplus/output/aodobs_merra2/hofx/f00'\n",
    "obs_name_list = [\n",
    "    'modis_terra_aod', 'modis_aqua_aod', 'pace_aod',\n",
    "    'viirs_aod_dt_npp', 'viirs_aod_dt_n20',\n",
    "    'viirs_aod_db_npp', 'viirs_aod_db_n20',\n",
    "]\n",
    "output_gridded_file = '/glade/work/swei/projects/mmm.pace_aod/aod_obs_stats.m2.202411.nc4'"
   ]
  },
  {
   "cell_type": "markdown",
   "id": "d215a1ea-e784-4096-af2f-e5f22142348c",
   "metadata": {},
   "source": [
    "### Create the latitude and longitude for grid points and corresponding bounds"
   ]
  },
  {
   "cell_type": "code",
   "execution_count": null,
   "id": "df832fb4-197e-4dad-ae8d-e166f81e41fd",
   "metadata": {},
   "outputs": [],
   "source": [
    "latbin = np.arange(-90-0.5*lat_res, 90+lat_res, lat_res)\n",
    "latgrd = np.arange(-90, 90+0.5*lat_res, lat_res)\n",
    "lonbin = np.arange(-180-0.5*lon_res, 180, lon_res)\n",
    "longrd = np.arange(-180, 180, lon_res)\n",
    "\n",
    "\n",
    "def process_obsname(obsname):\n",
    "    print(f'processing {obsname}')\n",
    "    for i, cdate in tqdm(enumerate(dates)):\n",
    "        cdate_str = cdate.strftime('%Y%m%d%H')\n",
    "        iodafile = f'{ioda_path}/{obsname}/hofx.{obsname}.{cdate_str}.nc4'\n",
    "\n",
    "        dims_ds = xa.open_dataset(iodafile)\n",
    "        channel = dims_ds.Channel.values\n",
    "\n",
    "        meta_ds = xa.open_dataset(iodafile, group='MetaData')\n",
    "        lats = meta_ds.latitude.data\n",
    "        lons = meta_ds.longitude.data\n",
    "\n",
    "        obsv_ds = xa.open_dataset(iodafile, group='ObsValue').assign_coords(Channel=channel.astype(np.int32))\n",
    "        obsv_data = obsv_ds[varname].sel(Channel=chnlidx).data\n",
    "        hofx_ds = xa.open_dataset(iodafile, group='hofx').assign_coords(Channel=channel.astype(np.int32))\n",
    "        hofx_data = hofx_ds[varname].sel(Channel=chnlidx).data\n",
    "        ombs_data = obsv_data - hofx_data\n",
    "\n",
    "        data_dict = {\n",
    "            f'{obsname}_obs': (['locs'], obsv_data),\n",
    "            f'{obsname}_hofx': (['locs'], hofx_data),\n",
    "            f'{obsname}_omb': (['locs'], ombs_data),\n",
    "            'lat': (['locs'], lats),\n",
    "            'lon': (['locs'], lons),\n",
    "        }\n",
    "\n",
    "        coord_dict = {'locs': range(lons.size)}\n",
    "        ds = xa.Dataset(data_dict, coords=coord_dict)\n",
    "\n",
    "        df = ds.to_dataframe()\n",
    "        df['latitude'] = pd.cut(df['lat'], bins=latbin, labels=latgrd)\n",
    "        df['longitude'] = pd.cut(df['lon'], bins=lonbin, labels=longrd)\n",
    "        grp = df.groupby(['latitude', 'longitude'], observed=False).agg({\n",
    "            f'{obsname}_obs':['count', 'mean', 'std'],\n",
    "            f'{obsname}_hofx':['mean', 'std'],\n",
    "            f'{obsname}_omb':['mean', 'std'],\n",
    "        })\n",
    "        grp.columns = [f\"{lvl1}_{lvl2}\" for lvl1, lvl2 in grp.columns]\n",
    "        gridded_ds = grp.to_xarray()\n",
    "\n",
    "        if i == 0:\n",
    "            outds = gridded_ds\n",
    "        else:\n",
    "            outds = xa.concat((outds, gridded_ds), dim='time')\n",
    "\n",
    "    outds = outds.assign_coords({'time': dates})\n",
    "    return outds"
   ]
  },
  {
   "cell_type": "markdown",
   "id": "29255e19-755b-4538-976b-705ee486bfb7",
   "metadata": {},
   "source": [
    "### Loop through observation in parallel"
   ]
  },
  {
   "cell_type": "code",
   "execution_count": null,
   "id": "f6b3b307-7bae-4385-b236-d53242ea605c",
   "metadata": {},
   "outputs": [],
   "source": [
    "dataset_list = Parallel(n_jobs=-1)(delayed(process_obsname)(obs) for obs in obs_name_list)\n",
    "allds = xa.merge(dataset_list)\n",
    "print('Process Finished')"
   ]
  },
  {
   "cell_type": "markdown",
   "id": "8c6ad835-3a6e-44bb-b1a2-f610ca93a5fa",
   "metadata": {},
   "source": [
    "### Write out the xarray dataset into a NetCDF file"
   ]
  },
  {
   "cell_type": "code",
   "execution_count": null,
   "id": "cd4fab54-086d-4594-b48c-48c19d9f0e98",
   "metadata": {},
   "outputs": [],
   "source": [
    "allds.to_netcdf(output_gridded_file)"
   ]
  }
 ],
 "metadata": {
  "kernelspec": {
   "display_name": "NPL 2025a",
   "language": "python",
   "name": "npl-2025a"
  },
  "language_info": {
   "codemirror_mode": {
    "name": "ipython",
    "version": 3
   },
   "file_extension": ".py",
   "mimetype": "text/x-python",
   "name": "python",
   "nbconvert_exporter": "python",
   "pygments_lexer": "ipython3",
   "version": "3.12.8"
  }
 },
 "nbformat": 4,
 "nbformat_minor": 5
}
